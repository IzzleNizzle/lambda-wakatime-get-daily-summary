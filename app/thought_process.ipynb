{
 "cells": [
  {
   "cell_type": "code",
   "execution_count": 1,
   "metadata": {},
   "outputs": [],
   "source": [
    "test_data = [\n",
    "    {\"name\": \"Portal\", \"playtime_forever\": 368, \"playtime_2weeks\": 0},\n",
    "    {\"name\": \"Left 4 Dead\", \"playtime_forever\": 0, \"playtime_2weeks\": 0},\n",
    "]\n",
    "\n",
    "# Desire array like this: ['Portal', 368, 0]"
   ]
  },
  {
   "cell_type": "code",
   "execution_count": 2,
   "metadata": {},
   "outputs": [],
   "source": [
    "def magic_function(data_dict):\n",
    "    # Convert dictionary to array with specific keys\n",
    "    return [data_dict['name'], data_dict['playtime_forever'], data_dict['playtime_2weeks']]\n"
   ]
  },
  {
   "cell_type": "code",
   "execution_count": 3,
   "metadata": {},
   "outputs": [
    {
     "data": {
      "text/plain": [
       "['Portal', 368, 0]"
      ]
     },
     "execution_count": 3,
     "metadata": {},
     "output_type": "execute_result"
    }
   ],
   "source": [
    "magic_function(test_data[0])"
   ]
  },
  {
   "cell_type": "code",
   "execution_count": 5,
   "metadata": {},
   "outputs": [
    {
     "data": {
      "text/plain": [
       "[['Portal', 368, 0], ['Left 4 Dead', 0, 0]]"
      ]
     },
     "execution_count": 5,
     "metadata": {},
     "output_type": "execute_result"
    }
   ],
   "source": [
    "list(map(magic_function, test_data))"
   ]
  },
  {
   "cell_type": "code",
   "execution_count": null,
   "metadata": {},
   "outputs": [],
   "source": [
    "arrays = [[1, 2, 3], [4, 5, 6], [7, 8, 9], ]\n",
    "def join_data_arrays(arrays):\n",
    "    joined_array = []\n",
    "    for array in arrays:\n",
    "        joined_array += array\n",
    "    return joined_array\n",
    "print(join_data_arrays(arrays))"
   ]
  },
  {
   "cell_type": "code",
   "execution_count": null,
   "metadata": {},
   "outputs": [],
   "source": [
    "# just notes\n",
    "# Assuming your array of objects is called 'my_objects'\n",
    "selected_keys = ['name', 'playtime_forever', 'playtime_2weeks']  # Replace with the keys you want to save\n",
    "\n",
    "def testing(my_objects):\n",
    "    new_objects = []\n",
    "    for obj in my_objects:\n",
    "        new_obj = {}\n",
    "        for key in selected_keys:\n",
    "            if obj[key] is not None:\n",
    "                new_obj[key] = obj[key]\n",
    "        new_objects.append(new_obj)\n",
    "    return new_objects\n",
    "\n",
    "# The new_objects list now contains a new object for each object in my_objects, with only the selected keys saved\n",
    "\n",
    "\n",
    "[\n",
    "{'name': 'Portal', 'playtime_forever': 368, 'playtime_2weeks': 0}\n",
    "{'name': 'Left 4 Dead', 'playtime_forever': 0, 'playtime_2weeks': 0}\n",
    "]\n",
    "\n",
    "['Portal', 368, 0]\n",
    "\n",
    "\n",
    "my_dict = {'name': 'Portal', 'playtime_forever': 368, 'playtime_2weeks': 0}\n",
    "\n",
    "# Convert dictionary to array\n",
    "my_array = [my_dict['name'], my_dict['playtime_forever'], my_dict['playtime_2weeks']]\n",
    "\n",
    "# Print the array\n",
    "print(my_array)\n",
    "\n"
   ]
  }
 ],
 "metadata": {
  "kernelspec": {
   "display_name": "iz-sandbox",
   "language": "python",
   "name": "python3"
  },
  "language_info": {
   "codemirror_mode": {
    "name": "ipython",
    "version": 3
   },
   "file_extension": ".py",
   "mimetype": "text/x-python",
   "name": "python",
   "nbconvert_exporter": "python",
   "pygments_lexer": "ipython3",
   "version": "3.11.0"
  },
  "orig_nbformat": 4
 },
 "nbformat": 4,
 "nbformat_minor": 2
}

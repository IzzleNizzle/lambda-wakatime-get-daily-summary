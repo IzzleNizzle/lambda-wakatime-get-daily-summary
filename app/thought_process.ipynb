{
 "cells": [
  {
   "cell_type": "code",
   "execution_count": null,
   "metadata": {},
   "outputs": [],
   "source": [
    "import os\n",
    "from dotenv import load_dotenv\n",
    "\n",
    "dotenv_path = '../.devcontainer/devcontainer.env'\n",
    "load_dotenv(dotenv_path)\n"
   ]
  },
  {
   "cell_type": "code",
   "execution_count": null,
   "metadata": {},
   "outputs": [],
   "source": [
    "test_data = [\n",
    "    {\"name\": \"Portal\", \"playtime_forever\": 368, \"playtime_2weeks\": 0},\n",
    "    {\"name\": \"Left 4 Dead\", \"playtime_forever\": 0, \"playtime_2weeks\": 0},\n",
    "]\n",
    "\n",
    "# Desire array like this: ['Portal', 368, 0]"
   ]
  },
  {
   "cell_type": "code",
   "execution_count": null,
   "metadata": {},
   "outputs": [],
   "source": [
    "def magic_function(data_dict):\n",
    "    # Convert dictionary to array with specific keys\n",
    "    return [data_dict['name'], data_dict['playtime_forever'], data_dict['playtime_2weeks']]\n"
   ]
  },
  {
   "cell_type": "code",
   "execution_count": null,
   "metadata": {},
   "outputs": [],
   "source": [
    "magic_function(test_data[0])"
   ]
  },
  {
   "cell_type": "code",
   "execution_count": null,
   "metadata": {},
   "outputs": [],
   "source": [
    "list(map(magic_function, test_data))"
   ]
  },
  {
   "cell_type": "code",
   "execution_count": null,
   "metadata": {},
   "outputs": [],
   "source": [
    "arrays = [[1, 2, 3], [4, 5, 6], [7, 8, 9], ]\n",
    "def join_data_arrays(arrays):\n",
    "    joined_array = []\n",
    "    for array in arrays:\n",
    "        joined_array += array\n",
    "    return joined_array\n",
    "print(join_data_arrays(arrays))"
   ]
  },
  {
   "cell_type": "code",
   "execution_count": null,
   "metadata": {},
   "outputs": [],
   "source": [
    "# just notes\n",
    "# Assuming your array of objects is called 'my_objects'\n",
    "selected_keys = ['name', 'playtime_forever', 'playtime_2weeks']  # Replace with the keys you want to save\n",
    "\n",
    "def testing(my_objects):\n",
    "    new_objects = []\n",
    "    for obj in my_objects:\n",
    "        new_obj = {}\n",
    "        for key in selected_keys:\n",
    "            if obj[key] is not None:\n",
    "                new_obj[key] = obj[key]\n",
    "        new_objects.append(new_obj)\n",
    "    return new_objects\n",
    "\n",
    "# The new_objects list now contains a new object for each object in my_objects, with only the selected keys saved\n",
    "\n",
    "\n",
    "[\n",
    "{'name': 'Portal', 'playtime_forever': 368, 'playtime_2weeks': 0}\n",
    "{'name': 'Left 4 Dead', 'playtime_forever': 0, 'playtime_2weeks': 0}\n",
    "]\n",
    "\n",
    "['Portal', 368, 0]\n",
    "\n",
    "\n",
    "my_dict = {'name': 'Portal', 'playtime_forever': 368, 'playtime_2weeks': 0}\n",
    "\n",
    "# Convert dictionary to array\n",
    "my_array = [my_dict['name'], my_dict['playtime_forever'], my_dict['playtime_2weeks']]\n",
    "\n",
    "# Print the array\n",
    "print(my_array)\n",
    "\n"
   ]
  },
  {
   "attachments": {},
   "cell_type": "markdown",
   "metadata": {},
   "source": [
    "Github-Contributions"
   ]
  },
  {
   "cell_type": "code",
   "execution_count": null,
   "metadata": {},
   "outputs": [],
   "source": [
    "import requests\n",
    "import json\n",
    "import os\n",
    "\n",
    "GITHUB_PERSONAL_ACCESS_TOKEN = os.environ.get(\"GITHUB_PERSONAL_ACCESS_TOKEN\")\n",
    "url = \"https://api.github.com/graphql\"\n",
    "\n",
    "\n",
    "payload = {\n",
    "    \"query\": \"\"\"\n",
    "        {\n",
    "            viewer {\n",
    "                login\n",
    "                createdAt\n",
    "                contributionsCollection(\n",
    "                    from: \"2016-09-16T07:11:52Z\"\n",
    "                    to: \"2017-09-16T07:11:52Z\"\n",
    "                ) {\n",
    "                    contributionCalendar {\n",
    "                        totalContributions\n",
    "                        weeks {\n",
    "                            contributionDays {\n",
    "                                weekday\n",
    "                                date\n",
    "                                contributionCount\n",
    "                                color\n",
    "                            }\n",
    "                        }\n",
    "                        months {\n",
    "                            name\n",
    "                            year\n",
    "                            firstDay\n",
    "                            totalWeeks\n",
    "                        }\n",
    "                    }\n",
    "                }\n",
    "            }\n",
    "        }\n",
    "    \"\"\",\n",
    "    \"variables\": {}\n",
    "}\n",
    "headers = {\n",
    "    \"Content-Type\": \"application/json\",\n",
    "    \"Authorization\": f\"Bearer {GITHUB_PERSONAL_ACCESS_TOKEN}\",\n",
    "}\n",
    "\n",
    "response = requests.request(\"POST\", url, headers=headers, data=json.dumps(payload))\n",
    "# response_dict = json.loads(response.text)\n",
    "# print(response.text)\n",
    "print(response.json())"
   ]
  },
  {
   "cell_type": "code",
   "execution_count": null,
   "metadata": {},
   "outputs": [],
   "source": [
    "github_resp = response.json()\n",
    "\n",
    "data_week_list = github_resp['data']['viewer']['contributionsCollection']['contributionCalendar']['weeks']\n",
    "\n",
    "week_day_list = data_week_list[0]['contributionDays']\n",
    "\n",
    "data_list = []\n",
    "for week in data_week_list:\n",
    "    data_list.append([[day['date'], day['contributionCount']] for day in week['contributionDays']])\n",
    "\n",
    "data_list = []\n",
    "\n",
    "for arr in data_list:\n",
    "    for a in arr:\n",
    "        data_list.append(a)\n",
    "\n",
    "pass"
   ]
  },
  {
   "cell_type": "code",
   "execution_count": null,
   "metadata": {},
   "outputs": [],
   "source": [
    "from app import append_values_to_google_sheet\n",
    "import os\n",
    "\n",
    "\n",
    "SPREADSHEET_ID = os.environ.get(\"SPREADSHEET_ID\")\n",
    "\n",
    "\n",
    "append_values_to_google_sheet(\n",
    "        SPREADSHEET_ID,\n",
    "        'Github-Contributions!A1:B1',\n",
    "        \"USER_ENTERED\",\n",
    "        [[1,12],[11,212]]\n",
    "    )"
   ]
  },
  {
   "cell_type": "markdown",
   "metadata": {},
   "source": [
    "Herei begin to change the saving approach from appending to prepending in google sheets"
   ]
  },
  {
   "cell_type": "code",
   "execution_count": null,
   "metadata": {},
   "outputs": [],
   "source": [
    "import datetime\n",
    "def print_timestamp():\n",
    "    now = datetime.datetime.now()\n",
    "    return now.strftime(\"%Y-%m-%d %H:%M:%S\")"
   ]
  },
  {
   "cell_type": "code",
   "execution_count": null,
   "metadata": {},
   "outputs": [],
   "source": [
    "import socket\n",
    "\n",
    "# Get machine's hostname\n",
    "hostname = socket.gethostname()\n",
    "print(f\"Hostname: {hostname}\")"
   ]
  },
  {
   "cell_type": "code",
   "execution_count": null,
   "metadata": {},
   "outputs": [],
   "source": [
    "from app import google_sheet_insert_row\n",
    "\n",
    "values = [\n",
    "    [print_timestamp(), '500', socket.gethostname()],\n",
    "    [print_timestamp(), '500', socket.gethostname()],\n",
    "    [print_timestamp(), '500', socket.gethostname()],\n",
    "]\n",
    "\n",
    "SPREADSHEET_ID = os.environ.get(\"SPREADSHEET_ID\")\n",
    "my_var = os.getenv('VARIABLE_NAME')\n",
    "\n",
    "google_sheet_insert_row(values=values, spreadsheet_id=SPREADSHEET_ID, sheet_id=220358112)\n",
    "# append_values_to_google_sheet()"
   ]
  }
 ],
 "metadata": {
  "kernelspec": {
   "display_name": "iz-sandbox",
   "language": "python",
   "name": "python3"
  },
  "language_info": {
   "codemirror_mode": {
    "name": "ipython",
    "version": 3
   },
   "file_extension": ".py",
   "mimetype": "text/x-python",
   "name": "python",
   "nbconvert_exporter": "python",
   "pygments_lexer": "ipython3",
   "version": "3.11.3"
  },
  "orig_nbformat": 4
 },
 "nbformat": 4,
 "nbformat_minor": 2
}

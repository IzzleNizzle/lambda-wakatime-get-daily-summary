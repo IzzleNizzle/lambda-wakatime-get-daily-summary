{
 "cells": [
  {
   "cell_type": "code",
   "execution_count": null,
   "metadata": {},
   "outputs": [],
   "source": [
    "import json\n",
    "import requests\n",
    "import os"
   ]
  },
  {
   "cell_type": "code",
   "execution_count": null,
   "metadata": {},
   "outputs": [],
   "source": [
    "wakatime_key = os.environ.get('WAKATIME_API_KEY')\n",
    "beginning_date = '2023-03-07'\n",
    "end_date = '2023-03-11'\n",
    "url = f'https://wakatime.com/api/v1/users/current/summaries?start={beginning_date}&end={end_date}&api_key={wakatime_key}'\n",
    "url"
   ]
  },
  {
   "cell_type": "code",
   "execution_count": null,
   "metadata": {},
   "outputs": [],
   "source": [
    "response = requests.get(url)\n",
    "data = response.json()\n",
    "print(data['cumulative_total'])\n",
    "print(data['daily_average'])"
   ]
  },
  {
   "cell_type": "code",
   "execution_count": null,
   "metadata": {},
   "outputs": [],
   "source": [
    "print(data['cumulative_total']['text'])\n",
    "print(data['daily_average']['text'])"
   ]
  },
  {
   "cell_type": "code",
   "execution_count": null,
   "metadata": {},
   "outputs": [],
   "source": [
    "print(data['cumulative_total']['seconds'])\n",
    "print(data['daily_average']['seconds'])"
   ]
  },
  {
   "attachments": {},
   "cell_type": "markdown",
   "metadata": {},
   "source": [
    "# Leader Api"
   ]
  },
  {
   "cell_type": "code",
   "execution_count": null,
   "metadata": {},
   "outputs": [],
   "source": [
    "leader_url = f'https://wakatime.com/api/v1/leaders?country_code=US&api_key={wakatime_key}'\n",
    "leader_url"
   ]
  },
  {
   "cell_type": "code",
   "execution_count": null,
   "metadata": {},
   "outputs": [],
   "source": [
    "leader_response = requests.get(leader_url)\n",
    "leader_data = leader_response.json()\n",
    "leaderboard_rank = leader_data['current_user']['rank']\n",
    "print(leaderboard_rank)"
   ]
  },
  {
   "cell_type": "markdown",
   "metadata": {},
   "source": [
    "# All Time Count API"
   ]
  },
  {
   "cell_type": "code",
   "execution_count": null,
   "metadata": {},
   "outputs": [],
   "source": [
    "all_time_url = f'https://wakatime.com/api/v1/users/current/all_time_since_today?country_code=US&api_key={wakatime_key}'\n",
    "all_time_url"
   ]
  },
  {
   "cell_type": "code",
   "execution_count": null,
   "metadata": {},
   "outputs": [],
   "source": [
    "all_time_response = requests.get(all_time_url)\n",
    "all_time_data = all_time_response.json()\n",
    "all_time_seconds = all_time_data['data']['total_seconds']\n",
    "print(all_time_seconds)\n",
    "all_time_text = all_time_data['data']['text']\n",
    "print(all_time_text)"
   ]
  },
  {
   "cell_type": "markdown",
   "metadata": {},
   "source": [
    "# Google Sheets"
   ]
  },
  {
   "cell_type": "code",
   "execution_count": null,
   "metadata": {},
   "outputs": [],
   "source": [
    "import json\n",
    "import requests\n",
    "import os\n",
    "from app.app import append_values_to_google_sheet, wakatime_api_all_time_count, batch_update_google_sheets\n",
    "\n",
    "\n",
    "WAKATIME_ALL_TIME_SHEET_ID = os.environ.get(\"WAKATIME_ALL_TIME_SHEET_ID\")\n",
    "SPREADSHEET_ID = os.environ.get(\"SPREADSHEET_ID\")\n",
    "\n",
    "WAKATIME_ALL_TIME_SHEET_ID, SPREADSHEET_ID"
   ]
  },
  {
   "cell_type": "code",
   "execution_count": null,
   "metadata": {},
   "outputs": [],
   "source": [
    "all_time_response = append_values_to_google_sheet(\n",
    "    SPREADSHEET_ID,\n",
    "    WAKATIME_ALL_TIME_SHEET_ID,\n",
    "    \"USER_ENTERED\",\n",
    "    [[1,12,'1900-02-02']],\n",
    ")\n",
    "print(all_time_response)"
   ]
  },
  {
   "cell_type": "code",
   "execution_count": null,
   "metadata": {},
   "outputs": [],
   "source": [
    "all_time_data = wakatime_api_all_time_count()\n",
    "all_time_seconds = all_time_data[\"all_time_seconds\"]\n",
    "all_time_text = all_time_data[\"all_time_text\"]\n",
    "all_time_seconds, all_time_text"
   ]
  },
  {
   "cell_type": "code",
   "execution_count": null,
   "metadata": {},
   "outputs": [],
   "source": [
    "all_time_response = append_values_to_google_sheet(\n",
    "    SPREADSHEET_ID,\n",
    "    WAKATIME_ALL_TIME_SHEET_ID,\n",
    "    \"USER_ENTERED\",\n",
    "    [\n",
    "        [\n",
    "            all_time_seconds,\n",
    "            all_time_text,\n",
    "            start_date,\n",
    "        ]\n",
    "    ],\n",
    ")"
   ]
  },
  {
   "cell_type": "markdown",
   "metadata": {},
   "source": [
    "I'm having issues with this function in the cloud, i think it's because google cloud doesn't like super fast subsequent calls to their api. I'm going to try to stuff all of the updates into one batch update command and see if that works better."
   ]
  },
  {
   "cell_type": "code",
   "execution_count": null,
   "metadata": {},
   "outputs": [],
   "source": [
    "testing_response = batch_update_google_sheets(\n",
    "    [[1,12,'1900-02-02']],\n",
    "    SPREADSHEET_ID,\n",
    "    # WAKATIME_ALL_TIME_SHEET_ID,\n",
    ")\n",
    "print(testing_response)"
   ]
  },
  {
   "cell_type": "markdown",
   "metadata": {},
   "source": [
    "# Manual Build\n",
    "See if i can put together this manual stuff"
   ]
  },
  {
   "cell_type": "code",
   "execution_count": null,
   "metadata": {},
   "outputs": [],
   "source": [
    "from app.app import (\n",
    "    batch_update_google_sheets,\n",
    "    create_append_request_obj,\n",
    "    create_rowdata,\n",
    "    create_string_value_obj,\n",
    ")"
   ]
  },
  {
   "cell_type": "code",
   "execution_count": null,
   "metadata": {},
   "outputs": [],
   "source": [
    "value_obj = create_string_value_obj(123)\n",
    "print(type(value_obj))\n",
    "value_obj"
   ]
  },
  {
   "cell_type": "code",
   "execution_count": null,
   "metadata": {},
   "outputs": [],
   "source": [
    "row_values = ['abc1','2','3']\n",
    "row_value_objs = [create_string_value_obj(val) for val in row_values]\n",
    "row_value_objs"
   ]
  },
  {
   "cell_type": "code",
   "execution_count": null,
   "metadata": {},
   "outputs": [],
   "source": [
    "row_data = create_rowdata(row_value_objs)\n",
    "row_data"
   ]
  },
  {
   "cell_type": "code",
   "execution_count": null,
   "metadata": {},
   "outputs": [],
   "source": [
    "append_request_obj = create_append_request_obj(0,row_data)\n",
    "append_request_obj"
   ]
  },
  {
   "cell_type": "code",
   "execution_count": null,
   "metadata": {},
   "outputs": [],
   "source": [
    "batch_update_google_sheets([append_request_obj, append_request_obj])"
   ]
  },
  {
   "attachments": {},
   "cell_type": "markdown",
   "metadata": {},
   "source": [
    "# Date Manipulation"
   ]
  },
  {
   "cell_type": "code",
   "execution_count": null,
   "metadata": {},
   "outputs": [],
   "source": [
    "from datetime import datetime, timedelta"
   ]
  },
  {
   "cell_type": "code",
   "execution_count": null,
   "metadata": {},
   "outputs": [],
   "source": [
    "def get_7_day_range(date):\n",
    "    date_format = '%Y-%m-%d'\n",
    "    end_date = date - timedelta(days=7)\n",
    "    return date.strftime(date_format), end_date.strftime(date_format)"
   ]
  },
  {
   "cell_type": "code",
   "execution_count": null,
   "metadata": {},
   "outputs": [],
   "source": [
    "start_date, end_date = get_7_day_range(datetime.now())\n",
    "print(start_date)\n",
    "print(end_date)"
   ]
  }
 ],
 "metadata": {
  "kernelspec": {
   "display_name": "chatgpt",
   "language": "python",
   "name": "python3"
  },
  "language_info": {
   "codemirror_mode": {
    "name": "ipython",
    "version": 3
   },
   "file_extension": ".py",
   "mimetype": "text/x-python",
   "name": "python",
   "nbconvert_exporter": "python",
   "pygments_lexer": "ipython3",
   "version": "3.9.17"
  },
  "orig_nbformat": 4
 },
 "nbformat": 4,
 "nbformat_minor": 2
}

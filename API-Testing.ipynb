{
 "cells": [
  {
   "cell_type": "code",
   "execution_count": 1,
   "metadata": {},
   "outputs": [],
   "source": [
    "import json\n",
    "import requests\n",
    "import os"
   ]
  },
  {
   "cell_type": "code",
   "execution_count": 2,
   "metadata": {},
   "outputs": [],
   "source": [
    "wakatime_key = os.environ.get('WAKATIME_API_KEY')\n",
    "beginning_date = '2023-03-07'\n",
    "end_date = '2023-03-11'\n",
    "url = f'https://wakatime.com/api/v1/users/current/summaries?start={beginning_date}&end={end_date}&api_key={wakatime_key}'"
   ]
  },
  {
   "cell_type": "code",
   "execution_count": 3,
   "metadata": {},
   "outputs": [
    {
     "name": "stdout",
     "output_type": "stream",
     "text": [
      "{'decimal': '3.65', 'digital': '3:39', 'seconds': 13180.439333, 'text': '3 hrs 39 mins'}\n",
      "{'days_including_holidays': 5, 'days_minus_holidays': 3, 'holidays': 2, 'seconds': 4391, 'seconds_including_other_language': 4393, 'text': '1 hr 13 mins', 'text_including_other_language': '1 hr 13 mins'}\n"
     ]
    }
   ],
   "source": [
    "response = requests.get(url)\n",
    "data = response.json()\n",
    "print(data['cumulative_total'])\n",
    "print(data['daily_average'])"
   ]
  },
  {
   "cell_type": "code",
   "execution_count": 19,
   "metadata": {},
   "outputs": [
    {
     "name": "stdout",
     "output_type": "stream",
     "text": [
      "3 hrs 34 mins\n",
      "1 hr 11 mins\n"
     ]
    }
   ],
   "source": [
    "print(data['cumulative_total']['text'])\n",
    "print(data['daily_average']['text'])"
   ]
  },
  {
   "cell_type": "code",
   "execution_count": 20,
   "metadata": {},
   "outputs": [
    {
     "name": "stdout",
     "output_type": "stream",
     "text": [
      "12868.399338\n",
      "4287\n"
     ]
    }
   ],
   "source": [
    "print(data['cumulative_total']['seconds'])\n",
    "print(data['daily_average']['seconds'])"
   ]
  },
  {
   "attachments": {},
   "cell_type": "markdown",
   "metadata": {},
   "source": [
    "# Leader Api"
   ]
  },
  {
   "cell_type": "code",
   "execution_count": 8,
   "metadata": {},
   "outputs": [
    {
     "name": "stdout",
     "output_type": "stream",
     "text": [
      "595\n"
     ]
    }
   ],
   "source": [
    "leader_url = f'https://wakatime.com/api/v1/leaders?country_code=US&api_key={wakatime_key}'\n",
    "leader_response = requests.get(leader_url)\n",
    "leader_data = leader_response.json()\n",
    "leaderboard_rank = leader_data['current_user']['rank']\n",
    "print(leaderboard_rank)"
   ]
  },
  {
   "attachments": {},
   "cell_type": "markdown",
   "metadata": {},
   "source": [
    "# Date Manipulation"
   ]
  },
  {
   "cell_type": "code",
   "execution_count": 6,
   "metadata": {},
   "outputs": [],
   "source": [
    "from datetime import datetime, timedelta"
   ]
  },
  {
   "cell_type": "code",
   "execution_count": 15,
   "metadata": {},
   "outputs": [],
   "source": [
    "def get_7_day_range(date):\n",
    "    date_format = '%Y-%m-%d'\n",
    "    end_date = date - timedelta(days=7)\n",
    "    return date.strftime(date_format), end_date.strftime(date_format)"
   ]
  },
  {
   "cell_type": "code",
   "execution_count": 16,
   "metadata": {},
   "outputs": [
    {
     "name": "stdout",
     "output_type": "stream",
     "text": [
      "2023-03-13\n",
      "2023-03-06\n"
     ]
    }
   ],
   "source": [
    "start_date, end_date = get_7_day_range(datetime.now())\n",
    "print(start_date)\n",
    "print(end_date)"
   ]
  }
 ],
 "metadata": {
  "kernelspec": {
   "display_name": "chatgpt",
   "language": "python",
   "name": "python3"
  },
  "language_info": {
   "codemirror_mode": {
    "name": "ipython",
    "version": 3
   },
   "file_extension": ".py",
   "mimetype": "text/x-python",
   "name": "python",
   "nbconvert_exporter": "python",
   "pygments_lexer": "ipython3",
   "version": "3.9.2"
  },
  "orig_nbformat": 4
 },
 "nbformat": 4,
 "nbformat_minor": 2
}
